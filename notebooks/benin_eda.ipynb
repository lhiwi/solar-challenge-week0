{
 "cells": [
  {
   "cell_type": "code",
   "execution_count": null,
   "metadata": {},
   "outputs": [],
   "source": [
    "import pandas as pd\n",
    "import numpy as np\n",
    "import matplotlib.pyplot as plt\n",
    "import seaborn as sns\n"
   ]
  },
  {
   "cell_type": "code",
   "execution_count": null,
   "metadata": {},
   "outputs": [],
   "source": [
    "# Load your dataset\n",
    "df = pd.read_csv(r\"\"C:\\Users\\jilow\\OneDrive\\Documents\\data\\benin-malanville.csv\"\")"
   ]
  },
  {
   "cell_type": "markdown",
   "metadata": {},
   "source": [
    "Data profiling"
   ]
  },
  {
   "cell_type": "code",
   "execution_count": null,
   "metadata": {},
   "outputs": [],
   "source": [
    "# Dataset overview: Shape and info\n",
    "print(f\"Shape of dataset: {df.shape}\")\n",
    "print(\"Columns:\", df.columns.tolist())\n",
    "df.info()# Summary of data types and non-null counts\n",
    "df.head()"
   ]
  },
  {
   "cell_type": "code",
   "execution_count": null,
   "metadata": {},
   "outputs": [],
   "source": [
    "# Descriptive statistics (numeric)\n",
    "display(df.describe())"
   ]
  },
  {
   "cell_type": "code",
   "execution_count": null,
   "metadata": {},
   "outputs": [],
   "source": [
    "# Missing‐value report\n",
    "miss = df.isna().sum()\n",
    "display(miss[miss > 0])"
   ]
  },
  {
   "cell_type": "code",
   "execution_count": null,
   "metadata": {},
   "outputs": [],
   "source": [
    "# Flag columns with >5% missing values\n",
    "total = len(df)\n",
    "for col, n in miss.items():\n",
    "    if n/total > 0.05:\n",
    "        print(f\"⚠️ {col}: {n} missing ({n/total:.1%})\")\n"
   ]
  },
  {
   "cell_type": "markdown",
   "metadata": {},
   "source": [
    "Data Cleaning"
   ]
  },
  {
   "cell_type": "code",
   "execution_count": null,
   "metadata": {},
   "outputs": [],
   "source": [
    "import numpy as np\n",
    "from scipy.stats import zscore\n",
    "\n",
    "# Convert Timestamp to datetime\n",
    "df['Timestamp'] = pd.to_datetime(df['Timestamp'], format='%Y-%m-%d %H:%M')"
   ]
  },
  {
   "cell_type": "code",
   "execution_count": null,
   "metadata": {},
   "outputs": [],
   "source": [
    "# Drop totally empty or irrelevant columns\n",
    "if 'Comments' in df.columns:\n",
    "    df.drop(columns=['Comments'], inplace=True)"
   ]
  },
  {
   "cell_type": "code",
   "execution_count": null,
   "metadata": {},
   "outputs": [],
   "source": [
    "# Outlier detection via Z‐score on critical columns\n",
    "cols = ['GHI','DNI','DHI','ModA','ModB','WS','WSgust']\n",
    "zs = df[cols].apply(zscore, nan_policy='omit')\n",
    "outlier_mask = (np.abs(zs) > 3).any(axis=1)\n",
    "print(\"Outliers flagged:\", outlier_mask.sum())"
   ]
  },
  {
   "cell_type": "code",
   "execution_count": null,
   "metadata": {},
   "outputs": [],
   "source": [
    "# Remove outliers\n",
    "df_clean = df.loc[~outlier_mask].copy()"
   ]
  },
  {
   "cell_type": "code",
   "execution_count": null,
   "metadata": {},
   "outputs": [],
   "source": [
    "# Impute remaining missing numeric values with median\n",
    "for c in cols:\n",
    "    med = df_clean[c].median()\n",
    "    df_clean[c] = df_clean[c].fillna(med)"
   ]
  },
  {
   "cell_type": "code",
   "execution_count": null,
   "metadata": {},
   "outputs": [],
   "source": [
    "# Final check: no missing & reasonable shape\n",
    "print(\"After cleaning shape:\", df_clean.shape)\n",
    "display(df_clean.isna().sum()[df_clean.isna().sum() > 0])"
   ]
  },
  {
   "cell_type": "markdown",
   "metadata": {},
   "source": [
    "EDA"
   ]
  },
  {
   "cell_type": "code",
   "execution_count": null,
   "metadata": {},
   "outputs": [],
   "source": [
    "# Time series plot\n",
    "plt.figure(figsize=(12,4))\n",
    "plt.plot(df_clean['Timestamp'], df_clean['GHI'], alpha=0.3)\n",
    "plt.title('Benin: GHI Over Time')\n",
    "plt.xlabel('Timestamp')\n",
    "plt.ylabel('GHI (W/m²)')\n",
    "plt.tight_layout()\n",
    "plt.show()\n"
   ]
  },
  {
   "cell_type": "code",
   "execution_count": null,
   "metadata": {},
   "outputs": [],
   "source": [
    "# Histogram & Distribution\n",
    "df_clean[['GHI','DNI','DHI','Tamb']].hist(bins=50, figsize=(12,8))\n",
    "plt.suptitle('Distributions of Key Variables')\n",
    "plt.show()"
   ]
  },
  {
   "cell_type": "code",
   "execution_count": null,
   "metadata": {},
   "outputs": [],
   "source": [
    "#cleaning impact on module output\n",
    "cleaning_means = df_clean.groupby('Cleaning')[['ModA','ModB']].mean().reset_index()\n",
    "sns.barplot(data=cleaning_means.melt(id_vars='Cleaning'),\n",
    "            x='Cleaning', y='value', hue='variable')\n",
    "plt.title('Module Output Pre/Post Cleaning')\n",
    "plt.ylabel('Mean Output (W/m²)')\n",
    "plt.show()\n"
   ]
  },
  {
   "cell_type": "code",
   "execution_count": null,
   "metadata": {},
   "outputs": [],
   "source": [
    "# Correlation heatmap\n",
    "plt.figure(figsize=(8,6))\n",
    "sns.heatmap(df_clean[['GHI','DNI','DHI','TModA','TModB','Tamb','RH']].corr(),\n",
    "            annot=True, cmap='coolwarm')\n",
    "plt.title('Feature Correlations')\n",
    "plt.show()"
   ]
  },
  {
   "cell_type": "code",
   "execution_count": null,
   "metadata": {},
   "outputs": [],
   "source": [
    "# Scatter relation\n",
    "sns.scatterplot(data=df_clean.sample(5000), x='RH', y='GHI', alpha=0.2)\n",
    "plt.title('Relative Humidity vs GHI')\n",
    "plt.show()"
   ]
  },
  {
   "cell_type": "code",
   "execution_count": null,
   "metadata": {},
   "outputs": [],
   "source": [
    "# Wind & Direction analysis\n",
    "# Wind speed distribution\n",
    "df_clean['WS'].hist(bins=50)\n",
    "plt.title('Wind Speed Distribution')\n",
    "plt.xlabel('WS (m/s)')\n",
    "plt.show()\n",
    "# Simple wind‐rose style scatter\n",
    "sns.scatterplot(data=df_clean.sample(2000),\n",
    "                x='WD', y='WS', hue='WS', palette='viridis', alpha=0.6)\n",
    "plt.title('Wind Direction vs Speed')\n",
    "plt.show()"
   ]
  },
  {
   "cell_type": "code",
   "execution_count": null,
   "metadata": {},
   "outputs": [],
   "source": [
    "# Bubble chart: Temperature and humidity\n",
    "plt.figure(figsize=(8,6))\n",
    "plt.scatter(df_clean['Tamb'], df_clean['GHI'],\n",
    "            s=df_clean['RH'], alpha=0.3)\n",
    "plt.title('GHI vs Temperature (bubble size = RH)')\n",
    "plt.xlabel('Tamb (°C)')\n",
    "plt.ylabel('GHI (W/m²)')\n",
    "plt.show()\n"
   ]
  },
  {
   "cell_type": "code",
   "execution_count": null,
   "metadata": {},
   "outputs": [],
   "source": [
    "df_clean.to_csv('C:/Users/jilow/solar-challenge-w0/data/benin_clean.csv', index=False)"
   ]
  }
 ],
 "metadata": {
  "kernelspec": {
   "display_name": "venv",
   "language": "python",
   "name": "python3"
  },
  "language_info": {
   "name": "python",
   "version": "3.11.4"
  }
 },
 "nbformat": 4,
 "nbformat_minor": 2
}
